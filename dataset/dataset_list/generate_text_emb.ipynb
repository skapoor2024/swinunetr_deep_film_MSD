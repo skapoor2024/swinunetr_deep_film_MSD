{
 "cells": [
  {
   "cell_type": "code",
   "execution_count": 1,
   "id": "9a23d927-6590-437a-b814-b62d890d33ab",
   "metadata": {},
   "outputs": [],
   "source": [
    "#generate embeddings for mutli-organ segmentation with present multi-organ mask"
   ]
  },
  {
   "cell_type": "code",
   "execution_count": 4,
   "id": "2e1e9079-c834-4cab-b162-72da79ccfe68",
   "metadata": {},
   "outputs": [],
   "source": [
    "import os\n",
    "import clip\n",
    "import torch\n",
    "import pickle\n",
    "\n",
    "\n",
    "## PAOT\n",
    "ORGAN_NAME = ['Spleen', 'Right Kidney', 'Left Kidney', 'Gall Bladder', 'Esophagus', \n",
    "                'Liver', 'Stomach', 'Arota', 'Postcava', 'Portal Vein and Splenic Vein',\n",
    "                'Pancreas', 'Right Adrenal Gland', 'Left Adrenal Gland', 'Duodenum', 'Hepatic Vessel',\n",
    "                'Right Lung', 'Left Lung', 'Colon', 'Intestine', 'Rectum', \n",
    "                'Bladder', 'Prostate', 'Left Head of Femur', 'Right Head of Femur', 'Celiac Truck',\n",
    "                'Kidney Tumor', 'Liver Tumor', 'Pancreas Tumor', 'Hepatic Vessel Tumor', 'Lung Tumor', \n",
    "                'Colon Tumor', 'Kidney Cyst']\n",
    "\n",
    "TEMPLATE={\n",
    "    '01': [1,2,3,4,5,6,7,8,9,10,11,12,13,14],\n",
    "    '02': [11],\n",
    "    '03': [6],\n",
    "    '04': [6,27], # post process\n",
    "    '05': [2,3,26,32], # post process\n",
    "    '06': [1,2,3,4,6,7,11,16,17],\n",
    "    '07': [6,1,3,2,7,4,5,11,14,18,19,12,13,20,21,23,24],\n",
    "    '08': [6, 2, 3, 1, 11],\n",
    "    '09': [1,2,3,4,5,6,7,8,9,11,12,13,14,21,22],\n",
    "    '12': [6,21,16,17,2,3],  \n",
    "    '13': [6,2,3,1,11,8,9,7,4,5,12,13,25], \n",
    "    '14': [11, 28],\n",
    "    '10_03': [6, 27], # post process\n",
    "    '10_06': [30],\n",
    "    '10_07': [11, 28], # post process\n",
    "    '10_08': [15, 29], # post process\n",
    "    '10_09': [1],\n",
    "    '10_10': [31],\n",
    "    #'15': [1,2,3,4,5,6,7,8,9,10,11,12,13,14,15,16,17] ## total segmentation\n",
    "}"
   ]
  },
  {
   "cell_type": "code",
   "execution_count": 5,
   "id": "77146a39-1c52-4a45-b53b-140cd777d97c",
   "metadata": {},
   "outputs": [],
   "source": [
    "#calculate according to the template the clip embeddings and save. "
   ]
  },
  {
   "cell_type": "code",
   "execution_count": 8,
   "id": "b6129cba-dd59-4d87-825c-7ced4efc6e19",
   "metadata": {},
   "outputs": [],
   "source": [
    "# Function to generate sentence\n",
    "def generate_sentence(template):\n",
    "    selected_organs = []\n",
    "    for i in template:\n",
    "        selected_organs.append(ORGAN_NAME[i-1])\n",
    "    return \"a computerized tomography of \" + \", \".join(selected_organs)"
   ]
  },
  {
   "cell_type": "code",
   "execution_count": 14,
   "id": "00e35876-ea1f-40ab-aa0c-e54f8da5e5a2",
   "metadata": {},
   "outputs": [],
   "source": [
    "def generate_sentence_list(template):\n",
    "    selected_organs = []\n",
    "    for i in template:\n",
    "        selected_organs.append(f\"a computerized tomography of {ORGAN_NAME[i-1]}\")\n",
    "    return selected_organs"
   ]
  },
  {
   "cell_type": "code",
   "execution_count": 33,
   "id": "641a4f96-299c-4896-bcc5-9096a17dd4d9",
   "metadata": {},
   "outputs": [],
   "source": [
    "template_text = {}\n",
    "for key, value in TEMPLATE.items():\n",
    "    template_text[key] = generate_sentence(value)"
   ]
  },
  {
   "cell_type": "code",
   "execution_count": 34,
   "id": "5b44e709-7905-407d-a203-982381fb52ec",
   "metadata": {},
   "outputs": [
    {
     "data": {
      "text/plain": [
       "{'01': 'a computerized tomography of Spleen, Right Kidney, Left Kidney, Gall Bladder, Esophagus, Liver, Stomach, Arota, Postcava, Portal Vein and Splenic Vein, Pancreas, Right Adrenal Gland, Left Adrenal Gland, Duodenum',\n",
       " '02': 'a computerized tomography of Pancreas',\n",
       " '03': 'a computerized tomography of Liver',\n",
       " '04': 'a computerized tomography of Liver, Liver Tumor',\n",
       " '05': 'a computerized tomography of Right Kidney, Left Kidney, Kidney Tumor, Kidney Cyst',\n",
       " '06': 'a computerized tomography of Spleen, Right Kidney, Left Kidney, Gall Bladder, Liver, Stomach, Pancreas, Right Lung, Left Lung',\n",
       " '07': 'a computerized tomography of Liver, Spleen, Left Kidney, Right Kidney, Stomach, Gall Bladder, Esophagus, Pancreas, Duodenum, Colon, Intestine, Right Adrenal Gland, Left Adrenal Gland, Rectum, Bladder, Left Head of Femur, Right Head of Femur',\n",
       " '08': 'a computerized tomography of Liver, Right Kidney, Left Kidney, Spleen, Pancreas',\n",
       " '09': 'a computerized tomography of Spleen, Right Kidney, Left Kidney, Gall Bladder, Esophagus, Liver, Stomach, Arota, Postcava, Pancreas, Right Adrenal Gland, Left Adrenal Gland, Duodenum, Bladder, Prostate',\n",
       " '12': 'a computerized tomography of Liver, Bladder, Right Lung, Left Lung, Right Kidney, Left Kidney',\n",
       " '13': 'a computerized tomography of Liver, Right Kidney, Left Kidney, Spleen, Pancreas, Arota, Postcava, Stomach, Gall Bladder, Esophagus, Right Adrenal Gland, Left Adrenal Gland, Celiac Truck',\n",
       " '14': 'a computerized tomography of Pancreas, Pancreas Tumor',\n",
       " '10_03': 'a computerized tomography of Liver, Liver Tumor',\n",
       " '10_06': 'a computerized tomography of Lung Tumor',\n",
       " '10_07': 'a computerized tomography of Pancreas, Pancreas Tumor',\n",
       " '10_08': 'a computerized tomography of Hepatic Vessel, Hepatic Vessel Tumor',\n",
       " '10_09': 'a computerized tomography of Spleen',\n",
       " '10_10': 'a computerized tomography of Colon Tumor'}"
      ]
     },
     "execution_count": 34,
     "metadata": {},
     "output_type": "execute_result"
    }
   ],
   "source": [
    "template_text"
   ]
  },
  {
   "cell_type": "code",
   "execution_count": 11,
   "id": "dbe1181f-383a-4a1d-98a7-b9bef2399a83",
   "metadata": {
    "scrolled": true
   },
   "outputs": [
    {
     "name": "stdout",
     "output_type": "stream",
     "text": [
      "torch.Size([1, 512]) torch.float16\n",
      "torch.Size([1, 512]) torch.float16\n",
      "torch.Size([1, 512]) torch.float16\n",
      "torch.Size([1, 512]) torch.float16\n",
      "torch.Size([1, 512]) torch.float16\n",
      "torch.Size([1, 512]) torch.float16\n",
      "torch.Size([1, 512]) torch.float16\n",
      "torch.Size([1, 512]) torch.float16\n",
      "torch.Size([1, 512]) torch.float16\n",
      "torch.Size([1, 512]) torch.float16\n",
      "torch.Size([1, 512]) torch.float16\n",
      "torch.Size([1, 512]) torch.float16\n",
      "torch.Size([1, 512]) torch.float16\n",
      "torch.Size([1, 512]) torch.float16\n",
      "torch.Size([1, 512]) torch.float16\n",
      "torch.Size([1, 512]) torch.float16\n",
      "torch.Size([1, 512]) torch.float16\n",
      "torch.Size([1, 512]) torch.float16\n"
     ]
    }
   ],
   "source": [
    "# Load the model\n",
    "device = \"cuda\" if torch.cuda.is_available() else \"cpu\"\n",
    "model, preprocess = clip.load('ViT-B/32', device)\n",
    "\n"
   ]
  },
  {
   "cell_type": "code",
   "execution_count": 35,
   "id": "43e592ba-01c1-4e7e-8d05-db0599901ba6",
   "metadata": {},
   "outputs": [
    {
     "name": "stdout",
     "output_type": "stream",
     "text": [
      "torch.Size([1, 512]) torch.float16\n",
      "torch.Size([1, 512]) torch.float16\n",
      "torch.Size([1, 512]) torch.float16\n",
      "torch.Size([1, 512]) torch.float16\n",
      "torch.Size([1, 512]) torch.float16\n",
      "torch.Size([1, 512]) torch.float16\n",
      "torch.Size([1, 512]) torch.float16\n",
      "torch.Size([1, 512]) torch.float16\n",
      "torch.Size([1, 512]) torch.float16\n",
      "torch.Size([1, 512]) torch.float16\n",
      "torch.Size([1, 512]) torch.float16\n",
      "torch.Size([1, 512]) torch.float16\n",
      "torch.Size([1, 512]) torch.float16\n",
      "torch.Size([1, 512]) torch.float16\n",
      "torch.Size([1, 512]) torch.float16\n",
      "torch.Size([1, 512]) torch.float16\n",
      "torch.Size([1, 512]) torch.float16\n",
      "torch.Size([1, 512]) torch.float16\n"
     ]
    }
   ],
   "source": [
    "dic = {}\n",
    "for key,value in template_text.items():\n",
    "    text_inputs = clip.tokenize(value).to(device)\n",
    "    with torch.no_grad():\n",
    "        text_features = model.encode_text(text_inputs)\n",
    "    print(text_features.shape, text_features.dtype)\n",
    "    dic[key] = text_features.to(dtype=torch.float32)"
   ]
  },
  {
   "cell_type": "code",
   "execution_count": 36,
   "id": "ba794ae0-cd77-4f8c-8045-5324698f8eb2",
   "metadata": {},
   "outputs": [],
   "source": [
    "with open('embeddings_template.pkl','wb') as file:\n",
    "    pickle.dump(dic,file)"
   ]
  },
  {
   "cell_type": "code",
   "execution_count": 15,
   "id": "19749a10-1d13-457f-afc2-6c10ca126ba8",
   "metadata": {},
   "outputs": [],
   "source": [
    "#now generating mean of the template sentences. "
   ]
  },
  {
   "cell_type": "code",
   "execution_count": 28,
   "id": "fc27ed5d-f2af-422d-95dc-16b003bfcf6d",
   "metadata": {},
   "outputs": [],
   "source": [
    "template_text_mean = {}\n",
    "for key, value in TEMPLATE.items():\n",
    "    template_text_mean[key] = generate_sentence_list(value)"
   ]
  },
  {
   "cell_type": "code",
   "execution_count": 29,
   "id": "bfe35e96-11f6-4c92-8a2a-d5b6d58b862a",
   "metadata": {
    "scrolled": true
   },
   "outputs": [
    {
     "data": {
      "text/plain": [
       "{'01': ['a computerized tomography of Spleen',\n",
       "  'a computerized tomography of Right Kidney',\n",
       "  'a computerized tomography of Left Kidney',\n",
       "  'a computerized tomography of Gall Bladder',\n",
       "  'a computerized tomography of Esophagus',\n",
       "  'a computerized tomography of Liver',\n",
       "  'a computerized tomography of Stomach',\n",
       "  'a computerized tomography of Arota',\n",
       "  'a computerized tomography of Postcava',\n",
       "  'a computerized tomography of Portal Vein and Splenic Vein',\n",
       "  'a computerized tomography of Pancreas',\n",
       "  'a computerized tomography of Right Adrenal Gland',\n",
       "  'a computerized tomography of Left Adrenal Gland',\n",
       "  'a computerized tomography of Duodenum'],\n",
       " '02': ['a computerized tomography of Pancreas'],\n",
       " '03': ['a computerized tomography of Liver'],\n",
       " '04': ['a computerized tomography of Liver',\n",
       "  'a computerized tomography of Liver Tumor'],\n",
       " '05': ['a computerized tomography of Right Kidney',\n",
       "  'a computerized tomography of Left Kidney',\n",
       "  'a computerized tomography of Kidney Tumor',\n",
       "  'a computerized tomography of Kidney Cyst'],\n",
       " '06': ['a computerized tomography of Spleen',\n",
       "  'a computerized tomography of Right Kidney',\n",
       "  'a computerized tomography of Left Kidney',\n",
       "  'a computerized tomography of Gall Bladder',\n",
       "  'a computerized tomography of Liver',\n",
       "  'a computerized tomography of Stomach',\n",
       "  'a computerized tomography of Pancreas',\n",
       "  'a computerized tomography of Right Lung',\n",
       "  'a computerized tomography of Left Lung'],\n",
       " '07': ['a computerized tomography of Liver',\n",
       "  'a computerized tomography of Spleen',\n",
       "  'a computerized tomography of Left Kidney',\n",
       "  'a computerized tomography of Right Kidney',\n",
       "  'a computerized tomography of Stomach',\n",
       "  'a computerized tomography of Gall Bladder',\n",
       "  'a computerized tomography of Esophagus',\n",
       "  'a computerized tomography of Pancreas',\n",
       "  'a computerized tomography of Duodenum',\n",
       "  'a computerized tomography of Colon',\n",
       "  'a computerized tomography of Intestine',\n",
       "  'a computerized tomography of Right Adrenal Gland',\n",
       "  'a computerized tomography of Left Adrenal Gland',\n",
       "  'a computerized tomography of Rectum',\n",
       "  'a computerized tomography of Bladder',\n",
       "  'a computerized tomography of Left Head of Femur',\n",
       "  'a computerized tomography of Right Head of Femur'],\n",
       " '08': ['a computerized tomography of Liver',\n",
       "  'a computerized tomography of Right Kidney',\n",
       "  'a computerized tomography of Left Kidney',\n",
       "  'a computerized tomography of Spleen',\n",
       "  'a computerized tomography of Pancreas'],\n",
       " '09': ['a computerized tomography of Spleen',\n",
       "  'a computerized tomography of Right Kidney',\n",
       "  'a computerized tomography of Left Kidney',\n",
       "  'a computerized tomography of Gall Bladder',\n",
       "  'a computerized tomography of Esophagus',\n",
       "  'a computerized tomography of Liver',\n",
       "  'a computerized tomography of Stomach',\n",
       "  'a computerized tomography of Arota',\n",
       "  'a computerized tomography of Postcava',\n",
       "  'a computerized tomography of Pancreas',\n",
       "  'a computerized tomography of Right Adrenal Gland',\n",
       "  'a computerized tomography of Left Adrenal Gland',\n",
       "  'a computerized tomography of Duodenum',\n",
       "  'a computerized tomography of Bladder',\n",
       "  'a computerized tomography of Prostate'],\n",
       " '12': ['a computerized tomography of Liver',\n",
       "  'a computerized tomography of Bladder',\n",
       "  'a computerized tomography of Right Lung',\n",
       "  'a computerized tomography of Left Lung',\n",
       "  'a computerized tomography of Right Kidney',\n",
       "  'a computerized tomography of Left Kidney'],\n",
       " '13': ['a computerized tomography of Liver',\n",
       "  'a computerized tomography of Right Kidney',\n",
       "  'a computerized tomography of Left Kidney',\n",
       "  'a computerized tomography of Spleen',\n",
       "  'a computerized tomography of Pancreas',\n",
       "  'a computerized tomography of Arota',\n",
       "  'a computerized tomography of Postcava',\n",
       "  'a computerized tomography of Stomach',\n",
       "  'a computerized tomography of Gall Bladder',\n",
       "  'a computerized tomography of Esophagus',\n",
       "  'a computerized tomography of Right Adrenal Gland',\n",
       "  'a computerized tomography of Left Adrenal Gland',\n",
       "  'a computerized tomography of Celiac Truck'],\n",
       " '14': ['a computerized tomography of Pancreas',\n",
       "  'a computerized tomography of Pancreas Tumor'],\n",
       " '10_03': ['a computerized tomography of Liver',\n",
       "  'a computerized tomography of Liver Tumor'],\n",
       " '10_06': ['a computerized tomography of Lung Tumor'],\n",
       " '10_07': ['a computerized tomography of Pancreas',\n",
       "  'a computerized tomography of Pancreas Tumor'],\n",
       " '10_08': ['a computerized tomography of Hepatic Vessel',\n",
       "  'a computerized tomography of Hepatic Vessel Tumor'],\n",
       " '10_09': ['a computerized tomography of Spleen'],\n",
       " '10_10': ['a computerized tomography of Colon Tumor']}"
      ]
     },
     "execution_count": 29,
     "metadata": {},
     "output_type": "execute_result"
    }
   ],
   "source": [
    "template_text_mean"
   ]
  },
  {
   "cell_type": "code",
   "execution_count": 30,
   "id": "9622531e-8d23-45a4-b780-8d62da00c444",
   "metadata": {
    "scrolled": true
   },
   "outputs": [
    {
     "name": "stdout",
     "output_type": "stream",
     "text": [
      "torch.Size([14, 512]) torch.float16\n",
      "torch.Size([1, 512]) torch.float16\n",
      "torch.Size([1, 512]) torch.float16\n",
      "torch.Size([1, 512]) torch.float16\n",
      "torch.Size([1, 512]) torch.float16\n",
      "torch.Size([1, 512]) torch.float16\n",
      "torch.Size([2, 512]) torch.float16\n",
      "torch.Size([1, 512]) torch.float16\n",
      "torch.Size([4, 512]) torch.float16\n",
      "torch.Size([1, 512]) torch.float16\n",
      "torch.Size([9, 512]) torch.float16\n",
      "torch.Size([1, 512]) torch.float16\n",
      "torch.Size([17, 512]) torch.float16\n",
      "torch.Size([1, 512]) torch.float16\n",
      "torch.Size([5, 512]) torch.float16\n",
      "torch.Size([1, 512]) torch.float16\n",
      "torch.Size([15, 512]) torch.float16\n",
      "torch.Size([1, 512]) torch.float16\n",
      "torch.Size([6, 512]) torch.float16\n",
      "torch.Size([1, 512]) torch.float16\n",
      "torch.Size([13, 512]) torch.float16\n",
      "torch.Size([1, 512]) torch.float16\n",
      "torch.Size([2, 512]) torch.float16\n",
      "torch.Size([1, 512]) torch.float16\n",
      "torch.Size([2, 512]) torch.float16\n",
      "torch.Size([1, 512]) torch.float16\n",
      "torch.Size([1, 512]) torch.float16\n",
      "torch.Size([1, 512]) torch.float16\n",
      "torch.Size([2, 512]) torch.float16\n",
      "torch.Size([1, 512]) torch.float16\n",
      "torch.Size([2, 512]) torch.float16\n",
      "torch.Size([1, 512]) torch.float16\n",
      "torch.Size([1, 512]) torch.float16\n",
      "torch.Size([1, 512]) torch.float16\n",
      "torch.Size([1, 512]) torch.float16\n",
      "torch.Size([1, 512]) torch.float16\n"
     ]
    }
   ],
   "source": [
    "dic_mean = {} \n",
    "for key,values in template_text_mean.items():\n",
    "    text_inputs = torch.cat([clip.tokenize(value) for value in values]).to(device)\n",
    "    with torch.no_grad():\n",
    "        text_features = model.encode_text(text_inputs)\n",
    "    mean_text_features = torch.mean(text_features,dim=0).unsqueeze(0)\n",
    "    print(text_features.shape, text_features.dtype)\n",
    "    print(mean_text_features.shape, mean_text_features.dtype)\n",
    "    dic_mean[key] = mean_text_features.to(dtype = torch.float32)"
   ]
  },
  {
   "cell_type": "code",
   "execution_count": 31,
   "id": "51025dac-16ed-4f0c-b5ab-377fc1c0cff0",
   "metadata": {},
   "outputs": [
    {
     "data": {
      "text/plain": [
       "torch.float32"
      ]
     },
     "execution_count": 31,
     "metadata": {},
     "output_type": "execute_result"
    }
   ],
   "source": [
    "dic_mean['01'].dtype"
   ]
  },
  {
   "cell_type": "code",
   "execution_count": 26,
   "id": "9ffaeb00-9c3e-4869-a778-e4216ef17f39",
   "metadata": {},
   "outputs": [
    {
     "data": {
      "text/plain": [
       "dict_keys(['01', '02', '03', '04', '05', '06', '07', '08', '09', '12', '13', '14', '10_03', '10_06', '10_07', '10_08', '10_09', '10_10'])"
      ]
     },
     "execution_count": 26,
     "metadata": {},
     "output_type": "execute_result"
    }
   ],
   "source": [
    "dic_mean.keys()"
   ]
  },
  {
   "cell_type": "code",
   "execution_count": 32,
   "id": "1fc38bb0-e9b9-412e-b7ad-1a91a138eafd",
   "metadata": {},
   "outputs": [],
   "source": [
    "with open('embeddings_template_mean.pkl','wb') as file:\n",
    "    pickle.dump(dic_mean,file)"
   ]
  },
  {
   "cell_type": "code",
   "execution_count": null,
   "id": "4a0684d1-36fb-45a4-8371-767564a78e73",
   "metadata": {},
   "outputs": [],
   "source": []
  }
 ],
 "metadata": {
  "kernelspec": {
   "display_name": "Python 3 (ipykernel)",
   "language": "python",
   "name": "python3"
  },
  "language_info": {
   "codemirror_mode": {
    "name": "ipython",
    "version": 3
   },
   "file_extension": ".py",
   "mimetype": "text/x-python",
   "name": "python",
   "nbconvert_exporter": "python",
   "pygments_lexer": "ipython3",
   "version": "3.9.19"
  }
 },
 "nbformat": 4,
 "nbformat_minor": 5
}
