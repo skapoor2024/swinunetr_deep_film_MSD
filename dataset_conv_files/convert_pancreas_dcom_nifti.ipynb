{
 "cells": [
  {
   "cell_type": "code",
   "execution_count": 2,
   "id": "dfecac68-fea0-484c-85d8-f86ef521d779",
   "metadata": {},
   "outputs": [],
   "source": [
    "import os"
   ]
  },
  {
   "cell_type": "code",
   "execution_count": 15,
   "id": "9bb25638-b96c-41d9-bda9-db5696c9e5e4",
   "metadata": {},
   "outputs": [],
   "source": [
    "import dcmstack"
   ]
  },
  {
   "cell_type": "code",
   "execution_count": 7,
   "id": "c66c5c20-e865-4514-8fec-d10047c3644e",
   "metadata": {},
   "outputs": [],
   "source": [
    "import glob"
   ]
  },
  {
   "cell_type": "code",
   "execution_count": 20,
   "id": "dbd5fad6-c9f4-48c3-afb6-3576ce931c0f",
   "metadata": {},
   "outputs": [],
   "source": [
    "import subprocess"
   ]
  },
  {
   "cell_type": "code",
   "execution_count": 32,
   "id": "47ab5e81-f39c-4a08-9b3a-722e3660b518",
   "metadata": {},
   "outputs": [],
   "source": [
    "import tqdm"
   ]
  },
  {
   "cell_type": "code",
   "execution_count": 38,
   "id": "9b356d92-5821-4b87-8270-ccfd205203c9",
   "metadata": {},
   "outputs": [],
   "source": [
    "import zipfile"
   ]
  },
  {
   "cell_type": "code",
   "execution_count": 43,
   "id": "95237db3-fbd7-4e86-9ded-56712365884e",
   "metadata": {},
   "outputs": [],
   "source": [
    "import nibabel"
   ]
  },
  {
   "cell_type": "code",
   "execution_count": 44,
   "id": "672566ce-6301-44c5-9a39-576ab2c545b5",
   "metadata": {},
   "outputs": [],
   "source": [
    "import gzip"
   ]
  },
  {
   "cell_type": "code",
   "execution_count": 56,
   "id": "05a58f30-2668-449a-8f99-165853b8aec1",
   "metadata": {},
   "outputs": [],
   "source": [
    "import shutil"
   ]
  },
  {
   "cell_type": "code",
   "execution_count": 68,
   "id": "3041e933-45ec-43b7-b31f-0c7285213885",
   "metadata": {},
   "outputs": [],
   "source": [
    "import json"
   ]
  },
  {
   "cell_type": "code",
   "execution_count": 203,
   "id": "3f0fb97c-9687-45a4-9700-6d1fe85cd286",
   "metadata": {},
   "outputs": [],
   "source": [
    "import numpy as np"
   ]
  },
  {
   "cell_type": "code",
   "execution_count": 182,
   "id": "ec5a32e4-7434-43c5-8a94-ac9c76ee0334",
   "metadata": {},
   "outputs": [],
   "source": [
    "from PIL import Image"
   ]
  },
  {
   "cell_type": "code",
   "execution_count": 4,
   "id": "36caa311-bd33-49c5-9910-b9461eba2857",
   "metadata": {},
   "outputs": [],
   "source": [
    "pancreas_fold = '/blue/kgong/s.kapoor/language_guided_segmentation/CLIP-Driven-Universal-Model/Pancreas-CT/'"
   ]
  },
  {
   "cell_type": "code",
   "execution_count": 5,
   "id": "a1fb5b3b-9823-412f-b0a1-11fe36f79843",
   "metadata": {},
   "outputs": [],
   "source": [
    "pancreas_subjects = [f for f in os.listdir(pancreas_fold) if f.startswith('PANCREAS')]"
   ]
  },
  {
   "cell_type": "code",
   "execution_count": 9,
   "id": "e7c14ef6-b6c1-43d5-adad-a30c6f336285",
   "metadata": {},
   "outputs": [],
   "source": [
    "output_folder= os.path.join(pancreas_fold,'img')\n",
    "if not os.path.exists(output_folder):\n",
    "    os.mkdir(output_folder)"
   ]
  },
  {
   "cell_type": "code",
   "execution_count": 23,
   "id": "08306978-0546-4162-b749-1ac9adaf21eb",
   "metadata": {},
   "outputs": [],
   "source": [
    "def find_dicom_folder(root_folder):\n",
    "    for folder in os.listdir(root_folder):\n",
    "        full_path = os.path.join(root_folder, folder)\n",
    "        if os.path.isdir(full_path):  # Check if it's a directory\n",
    "            if has_dicoms(full_path):  # If the subfolder contains DICOM files\n",
    "                return full_path\n",
    "            else:\n",
    "                found_in_subfolder = find_dicom_folder(full_path)  # Recursively search within subfolders\n",
    "                if found_in_subfolder:  # If we found it in a subfolder, return that path\n",
    "                    return found_in_subfolder\n",
    "\n",
    "    return None  # If no DICOM files were found anywhere\n",
    "\n",
    "def has_dicoms(folder):\n",
    "    for file in os.listdir(folder):\n",
    "        full_path = os.path.join(folder, file)\n",
    "        if full_path.endswith('.dcm') or full_path.endswith('.DCM'):  # Check for DICOM file extensions\n",
    "            return True\n",
    "    return False"
   ]
  },
  {
   "cell_type": "code",
   "execution_count": 29,
   "id": "55e79c4b-ecf3-45bd-8d03-5f8e6e955081",
   "metadata": {},
   "outputs": [],
   "source": [
    "def convert_dicom_to_nifti(dicom_dir,output_dir,output_filename):\n",
    "\n",
    "    command = [\n",
    "        'dcm2niix',\n",
    "        '-z', 'y',\n",
    "        '-f', output_filename,\n",
    "        '-o',output_dir,\n",
    "        dicom_dir\n",
    "    ]\n",
    "\n",
    "    subprocess.run(command,check=True)\n",
    "    nifti_file = os.path.join(output_dir,f\"{output_file_name}.nii.gz\")\n",
    "    return nifti_file"
   ]
  },
  {
   "cell_type": "code",
   "execution_count": 31,
   "id": "e80b2b85-9e50-4c4d-9208-8dfe7fa9fad6",
   "metadata": {},
   "outputs": [],
   "source": [
    "import dicom2nifti"
   ]
  },
  {
   "cell_type": "code",
   "execution_count": 33,
   "id": "006c9a93-0a2b-4e22-925b-c1d99b96e93a",
   "metadata": {},
   "outputs": [
    {
     "name": "stderr",
     "output_type": "stream",
     "text": [
      "100%|██████████████████████████████████████████████████████████████████████████████████████████████████████████████████████████████████████████████████████████████████████████████████████████████████████████████████████████████████████████████████████████████████████| 80/80 [07:23<00:00,  5.54s/it]\n"
     ]
    }
   ],
   "source": [
    "for sub in tqdm.tqdm(pancreas_subjects):\n",
    "    sub_fold = os.path.join(pancreas_fold,sub)\n",
    "    if os.path.isdir(sub_fold):\n",
    "        output_nifti_file = os.path.join(output_folder,sub+'.nii.gz')\n",
    "        dicom_fold = find_dicom_folder(sub_fold)\n",
    "        if os.path.isdir(dicom_fold):\n",
    "            dicom2nifti.dicom_series_to_nifti(dicom_fold,output_nifti_file,reorient_nifti=True)"
   ]
  },
  {
   "cell_type": "code",
   "execution_count": 34,
   "id": "b7d9c286-e574-4f48-bb6b-7aeb25e5355f",
   "metadata": {},
   "outputs": [],
   "source": [
    "#unzip lits test data\n",
    "lits_data_test = '/blue/kgong/s.kapoor/language_guided_segmentation/CLIP-Driven-Universal-Model/04_LiTS/lits_test_data/'"
   ]
  },
  {
   "cell_type": "code",
   "execution_count": 36,
   "id": "7c1801be-3723-42ad-b79d-65b4834159ab",
   "metadata": {},
   "outputs": [],
   "source": [
    "def uncompress_all_files_in_folder(folder_path):\n",
    "    # Check if input is a valid directory path\n",
    "    if not os.path.isdir(folder_path):\n",
    "        raise ValueError(f\"'{folder_path}' is not a valid directory path.\")\n",
    "    total_count = 0\n",
    "    # Traverse through all the contents in the given folder\n",
    "    for root, dirs, files in os.walk(folder_path):\n",
    "        # For each file found...\n",
    "        for file in tqdm.tqdm(files):\n",
    "            # Get full path to the current file\n",
    "            full_path = os.path.join(root, file)\n",
    "\n",
    "            # Check if it's a zip archive (ignore any .pyc or __pycache__ related files)\n",
    "            if file.endswith('.zip') and not file.startswith('__'):\n",
    "                try:\n",
    "                    # Attempt to extract the contents of the zip archive...\n",
    "                    with zipfile.ZipFile(full_path, 'r') as zip_ref:\n",
    "                        zip_ref.extractall(root)\n",
    "\n",
    "                    print(f\"Extracted zip file: {full_path}\")\n",
    "                    total_count+=1\n",
    "                except Exception as e:\n",
    "                    # If an exception occurs during extraction, catch it and provide a message\n",
    "                    print(f\"Error extracting zip file '{full_path}': {str(e)}\")\n",
    "            else:\n",
    "                continue\n",
    "    print(f\"\\n Total files extracted: {total_count}\")"
   ]
  },
  {
   "cell_type": "code",
   "execution_count": 39,
   "id": "f2673f6a-47e9-4946-a0f3-e37ce3764f76",
   "metadata": {},
   "outputs": [
    {
     "name": "stderr",
     "output_type": "stream",
     "text": [
      " 10%|██████████████████████████▎                                                                                                                                                                                                                                            | 1/10 [00:09<01:26,  9.56s/it]"
     ]
    },
    {
     "name": "stdout",
     "output_type": "stream",
     "text": [
      "Extracted zip file: /blue/kgong/s.kapoor/language_guided_segmentation/CLIP-Driven-Universal-Model/04_LiTS/lits_test_data/LITS-Challenge-Test-Data-20240805T232531Z-009.zip\n"
     ]
    },
    {
     "name": "stderr",
     "output_type": "stream",
     "text": [
      " 20%|████████████████████████████████████████████████████▌                                                                                                                                                                                                                  | 2/10 [00:23<01:34, 11.85s/it]"
     ]
    },
    {
     "name": "stdout",
     "output_type": "stream",
     "text": [
      "Extracted zip file: /blue/kgong/s.kapoor/language_guided_segmentation/CLIP-Driven-Universal-Model/04_LiTS/lits_test_data/LITS-Challenge-Test-Data-20240805T232531Z-007.zip\n"
     ]
    },
    {
     "name": "stderr",
     "output_type": "stream",
     "text": [
      " 30%|██████████████████████████████████████████████████████████████████████████████▉                                                                                                                                                                                        | 3/10 [00:34<01:20, 11.53s/it]"
     ]
    },
    {
     "name": "stdout",
     "output_type": "stream",
     "text": [
      "Extracted zip file: /blue/kgong/s.kapoor/language_guided_segmentation/CLIP-Driven-Universal-Model/04_LiTS/lits_test_data/LITS-Challenge-Test-Data-20240805T232531Z-003.zip\n"
     ]
    },
    {
     "name": "stderr",
     "output_type": "stream",
     "text": [
      " 40%|█████████████████████████████████████████████████████████████████████████████████████████████████████████▏                                                                                                                                                             | 4/10 [00:45<01:08, 11.36s/it]"
     ]
    },
    {
     "name": "stdout",
     "output_type": "stream",
     "text": [
      "Extracted zip file: /blue/kgong/s.kapoor/language_guided_segmentation/CLIP-Driven-Universal-Model/04_LiTS/lits_test_data/LITS-Challenge-Test-Data-20240805T232531Z-005.zip\n"
     ]
    },
    {
     "name": "stderr",
     "output_type": "stream",
     "text": [
      " 50%|███████████████████████████████████████████████████████████████████████████████████████████████████████████████████████████████████▌                                                                                                                                   | 5/10 [00:54<00:53, 10.67s/it]"
     ]
    },
    {
     "name": "stdout",
     "output_type": "stream",
     "text": [
      "Extracted zip file: /blue/kgong/s.kapoor/language_guided_segmentation/CLIP-Driven-Universal-Model/04_LiTS/lits_test_data/LITS-Challenge-Test-Data-20240805T232531Z-010.zip\n"
     ]
    },
    {
     "name": "stderr",
     "output_type": "stream",
     "text": [
      " 60%|█████████████████████████████████████████████████████████████████████████████████████████████████████████████████████████████████████████████████████████████▊                                                                                                         | 6/10 [01:05<00:43, 10.87s/it]"
     ]
    },
    {
     "name": "stdout",
     "output_type": "stream",
     "text": [
      "Extracted zip file: /blue/kgong/s.kapoor/language_guided_segmentation/CLIP-Driven-Universal-Model/04_LiTS/lits_test_data/LITS-Challenge-Test-Data-20240805T232531Z-006.zip\n"
     ]
    },
    {
     "name": "stderr",
     "output_type": "stream",
     "text": [
      " 70%|████████████████████████████████████████████████████████████████████████████████████████████████████████████████████████████████████████████████████████████████████████████████████████                                                                               | 7/10 [01:16<00:32, 10.79s/it]"
     ]
    },
    {
     "name": "stdout",
     "output_type": "stream",
     "text": [
      "Extracted zip file: /blue/kgong/s.kapoor/language_guided_segmentation/CLIP-Driven-Universal-Model/04_LiTS/lits_test_data/LITS-Challenge-Test-Data-20240805T232531Z-008.zip\n"
     ]
    },
    {
     "name": "stderr",
     "output_type": "stream",
     "text": [
      " 80%|██████████████████████████████████████████████████████████████████████████████████████████████████████████████████████████████████████████████████████████████████████████████████████████████████████████████████▍                                                    | 8/10 [01:25<00:20, 10.05s/it]"
     ]
    },
    {
     "name": "stdout",
     "output_type": "stream",
     "text": [
      "Extracted zip file: /blue/kgong/s.kapoor/language_guided_segmentation/CLIP-Driven-Universal-Model/04_LiTS/lits_test_data/LITS-Challenge-Test-Data-20240805T232531Z-001.zip\n"
     ]
    },
    {
     "name": "stderr",
     "output_type": "stream",
     "text": [
      " 90%|████████████████████████████████████████████████████████████████████████████████████████████████████████████████████████████████████████████████████████████████████████████████████████████████████████████████████████████████████████████▋                          | 9/10 [01:35<00:10, 10.15s/it]"
     ]
    },
    {
     "name": "stdout",
     "output_type": "stream",
     "text": [
      "Extracted zip file: /blue/kgong/s.kapoor/language_guided_segmentation/CLIP-Driven-Universal-Model/04_LiTS/lits_test_data/LITS-Challenge-Test-Data-20240805T232531Z-002.zip\n"
     ]
    },
    {
     "name": "stderr",
     "output_type": "stream",
     "text": [
      "100%|██████████████████████████████████████████████████████████████████████████████████████████████████████████████████████████████████████████████████████████████████████████████████████████████████████████████████████████████████████████████████████████████████████| 10/10 [01:45<00:00, 10.58s/it]"
     ]
    },
    {
     "name": "stdout",
     "output_type": "stream",
     "text": [
      "Extracted zip file: /blue/kgong/s.kapoor/language_guided_segmentation/CLIP-Driven-Universal-Model/04_LiTS/lits_test_data/LITS-Challenge-Test-Data-20240805T232531Z-004.zip\n",
      "\n",
      " Total files extracted: 10\n"
     ]
    },
    {
     "name": "stderr",
     "output_type": "stream",
     "text": [
      "\n"
     ]
    }
   ],
   "source": [
    "uncompress_all_files_in_folder(lits_data_test)"
   ]
  },
  {
   "cell_type": "code",
   "execution_count": 40,
   "id": "4a9567ae-8b92-40a1-8095-c38868b8c91f",
   "metadata": {},
   "outputs": [],
   "source": [
    "lits_folder = '/blue/kgong/s.kapoor/language_guided_segmentation/CLIP-Driven-Universal-Model/04_LiTS/LITS/'"
   ]
  },
  {
   "cell_type": "code",
   "execution_count": 45,
   "id": "cbabfdf2-3561-4309-82f5-fea82142526e",
   "metadata": {},
   "outputs": [],
   "source": [
    "lits_out_folder = '/blue/kgong/s.kapoor/language_guided_segmentation/CLIP-Driven-Universal-Model/04_LiTS/'"
   ]
  },
  {
   "cell_type": "code",
   "execution_count": 41,
   "id": "4f2d7931-963c-488b-86d9-13a5767e0795",
   "metadata": {},
   "outputs": [],
   "source": [
    "nii_files = glob.glob(os.path.join(lits_folder,'**','*.nii'),recursive=True)"
   ]
  },
  {
   "cell_type": "code",
   "execution_count": 48,
   "id": "691f77d1-921f-4d9e-85eb-08ddb9a6b9c1",
   "metadata": {},
   "outputs": [
    {
     "name": "stderr",
     "output_type": "stream",
     "text": [
      "100%|████████████████████████████████████████████████████████████████████████████████████████████████████████████████████████████████████████████████████████████████████████████████████████████████████████████████████████████████████████████████████████████████████| 262/262 [32:49<00:00,  7.52s/it]\n"
     ]
    }
   ],
   "source": [
    "ip_vol = []\n",
    "ip_seg = []\n",
    "for file in tqdm.tqdm(nii_files):\n",
    "    img = nibabel.load(file)\n",
    "    file_name = file.split('/')[-1]\n",
    "    if 'volume' in file_name:\n",
    "        output_folder = os.path.join(lits_out_folder,'img')\n",
    "        ip_vol.append(file_name)\n",
    "    if 'segmentation' in file_name:\n",
    "        output_folder = os.path.join(lits_out_folder,'label')\n",
    "        ip_seg.append(file_name)\n",
    "    output_file_name = 'liver_'+file_name.split('.')[0].split('-')[1]+'.nii.gz'\n",
    "    output_file_path = os.path.join(output_folder,output_file_name)\n",
    "    #print(output_file_path)\n",
    "\n",
    "    nibabel.save(img,output_file_path)"
   ]
  },
  {
   "cell_type": "code",
   "execution_count": 49,
   "id": "03f84101-0c38-4572-9c47-8ab93ba8ddf1",
   "metadata": {},
   "outputs": [
    {
     "data": {
      "text/plain": [
       "True"
      ]
     },
     "execution_count": 49,
     "metadata": {},
     "output_type": "execute_result"
    }
   ],
   "source": [
    "len(ip_vol) == len(ip_seg)"
   ]
  },
  {
   "cell_type": "code",
   "execution_count": 50,
   "id": "081173f1-b785-4b8f-8bc4-464762797298",
   "metadata": {},
   "outputs": [],
   "source": [
    "#renaming for KITS dataset"
   ]
  },
  {
   "cell_type": "code",
   "execution_count": 52,
   "id": "98ef01fb-74f6-4a7e-890c-0e5e9c739fca",
   "metadata": {},
   "outputs": [],
   "source": [
    "kits_folder = '/blue/kgong/s.kapoor/language_guided_segmentation/CLIP-Driven-Universal-Model/05_KiTS/dataset/'\n",
    "kits_out_fold = '/blue/kgong/s.kapoor/language_guided_segmentation/CLIP-Driven-Universal-Model/05_KiTS/'"
   ]
  },
  {
   "cell_type": "code",
   "execution_count": 58,
   "id": "2dcdccb2-30f5-4f83-a768-c05829f268bf",
   "metadata": {},
   "outputs": [
    {
     "name": "stderr",
     "output_type": "stream",
     "text": [
      "100%|████████████████████████████████████████████████████████████████████████████████████████████████████████████████████████████████████████████████████████████████████████████████████████████████████████████████████████████████████████████████████████████████████| 490/490 [06:36<00:00,  1.24it/s]\n"
     ]
    }
   ],
   "source": [
    "for fold in tqdm.tqdm(os.listdir(kits_folder)):\n",
    "    fold_path = os.path.join(kits_folder,fold)\n",
    "    if os.path.isdir(fold_path):\n",
    "        num_part = fold.split('_')[1]\n",
    "        num_part = str(int(num_part)).zfill(4)\n",
    "        for file in os.listdir(fold_path):\n",
    "            if file.endswith('.nii.gz'):\n",
    "                source_path = os.path.join(fold_path,file)\n",
    "                if 'imaging' in file:\n",
    "                    file_name = f\"img{num_part}.nii.gz\"\n",
    "                    file_path = os.path.join(kits_out_fold,'img',file_name)\n",
    "\n",
    "                elif 'segmentation' in file:\n",
    "                    file_name = f\"label{num_part}.nii.gz\"\n",
    "                    file_path = os.path.join(kits_out_fold,'label',file_name)\n",
    "                shutil.copy(source_path,file_path)"
   ]
  },
  {
   "cell_type": "code",
   "execution_count": 59,
   "id": "d2ae146a-7e32-45e7-93d0-c3208c2e1aca",
   "metadata": {},
   "outputs": [],
   "source": [
    "#for CT ORG-12 "
   ]
  },
  {
   "cell_type": "code",
   "execution_count": 60,
   "id": "93caf4ec-e975-464d-a504-c3bccd72effc",
   "metadata": {},
   "outputs": [],
   "source": [
    "ct_org_12 = '/blue/kgong/s.kapoor/language_guided_segmentation/CLIP-Driven-Universal-Model/12_CT-ORG/OrganSegmentations/'\n",
    "ct_org_out = '/blue/kgong/s.kapoor/language_guided_segmentation/CLIP-Driven-Universal-Model/12_CT-ORG'"
   ]
  },
  {
   "cell_type": "code",
   "execution_count": 62,
   "id": "aaf9ce79-9200-4161-976b-058584a6d586",
   "metadata": {},
   "outputs": [
    {
     "name": "stderr",
     "output_type": "stream",
     "text": [
      "100%|██████████████████████████████████████████████████████████████████████████████████████████████████████████████████████████████████████████████████████████████████████████████████████████████████████████████████████████████████████████████████████████████████| 281/281 [00:00<00:00, 1981.77it/s]\n"
     ]
    }
   ],
   "source": [
    "for file in tqdm.tqdm(os.listdir(ct_org_12)):\n",
    "    if file.endswith('.nii.gz'):\n",
    "        source_path = os.path.join(ct_org_12,file)\n",
    "        if 'labels' in file:\n",
    "            dst_folder = os.path.join(ct_org_out,'label',file)\n",
    "        elif 'volume' in file:\n",
    "            dst_folder = os.path.join(ct_org_out,'img',file)\n",
    "        shutil.move(source_path,dst_folder)"
   ]
  },
  {
   "cell_type": "code",
   "execution_count": 63,
   "id": "a569c3d7-d017-46f6-8fe0-0bc703fd20ef",
   "metadata": {},
   "outputs": [],
   "source": [
    "#changing name of the flare dataset to 13Abdomentct type"
   ]
  },
  {
   "cell_type": "code",
   "execution_count": 64,
   "id": "e0bd1bbd-4bf2-4a55-8f18-5fd83ec88054",
   "metadata": {},
   "outputs": [],
   "source": [
    "organ_12 = '/blue/kgong/s.kapoor/language_guided_segmentation/CLIP-Driven-Universal-Model/13_AbdomenCT-12organ/'"
   ]
  },
  {
   "cell_type": "code",
   "execution_count": 66,
   "id": "ffc70c6e-2cf4-4431-bf12-2ee96434d05b",
   "metadata": {},
   "outputs": [],
   "source": [
    "for fold in os.listdir(organ_12):\n",
    "    if fold in ['img','label']:\n",
    "        fold_path = os.path.join(organ_12,fold)\n",
    "        for file in os.listdir(fold_path):\n",
    "            if file.endswith('.nii.gz'):\n",
    "                source_path = os.path.join(fold_path,file)\n",
    "                destination_path = os.path.join(fold_path,file.replace('FLARE22_Tr','Organ12'))\n",
    "                shutil.move(source_path,destination_path)"
   ]
  },
  {
   "cell_type": "code",
   "execution_count": 65,
   "id": "ee6d1512-d750-4b19-ba16-41279efeb162",
   "metadata": {},
   "outputs": [
    {
     "data": {
      "text/plain": [
       "'sdsdsdsdsdsd'"
      ]
     },
     "execution_count": 65,
     "metadata": {},
     "output_type": "execute_result"
    }
   ],
   "source": [
    "'asdfasdfasdf'.replace('asdf','sdsd')"
   ]
  },
  {
   "cell_type": "code",
   "execution_count": 67,
   "id": "40c8d58e-f4c2-497d-a3cd-60484a035602",
   "metadata": {},
   "outputs": [],
   "source": [
    "#doing it for the word file"
   ]
  },
  {
   "cell_type": "code",
   "execution_count": 138,
   "id": "49eed043-31eb-4dce-8444-be15c5c961a9",
   "metadata": {},
   "outputs": [],
   "source": [
    "word_json_file = '/home/s.kapoor/kgong_skapoor/language_guided_segmentation/CLIP-Driven-Universal-Model/WORD/RAOS-Real/overlap_with_word.json'"
   ]
  },
  {
   "cell_type": "code",
   "execution_count": 139,
   "id": "575190a0-b841-4acc-a474-a6bbb896b357",
   "metadata": {},
   "outputs": [],
   "source": [
    "with open(word_json_file,'r') as jfile:\n",
    "    data = json.load(jfile)"
   ]
  },
  {
   "cell_type": "code",
   "execution_count": 140,
   "id": "d62795b0-fe99-4aec-9416-2eecdb1663ee",
   "metadata": {},
   "outputs": [],
   "source": [
    "key_value_splits = data[:-1].split(',')"
   ]
  },
  {
   "cell_type": "code",
   "execution_count": 141,
   "id": "af5f2bb7-921f-4454-803f-e560b0f83167",
   "metadata": {},
   "outputs": [],
   "source": [
    "dic = {}\n",
    "for key_value_split in key_value_splits:\n",
    "    value,key = key_value_split.split(':')\n",
    "    dic[key[2:-1]]=value[2:-1]"
   ]
  },
  {
   "cell_type": "code",
   "execution_count": 142,
   "id": "55edfddc-7f9c-4ecc-ae20-7fd771f5c0e5",
   "metadata": {},
   "outputs": [],
   "source": [
    "#get all the .nii.gz files in the given folder.\n",
    "def find_nii_gz_files(directory_path):\n",
    "    \"\"\"\n",
    "    Find all .nii.gz files in the given directory.\n",
    "\n",
    "    Args:\n",
    "        directory_path (str): The path to the directory where you want to search for .nii.gz files.\n",
    "\n",
    "    Returns:\n",
    "        list: A list of absolute paths of all .nii.gz files found.\n",
    "    \"\"\"\n",
    "    nii_gz_files = []\n",
    "    for root, dirs, files in os.walk(directory_path):\n",
    "        for file in files:\n",
    "            if file.endswith('.nii.gz'):\n",
    "                file_path = os.path.join(root, file)\n",
    "                nii_gz_files.append(file_path)\n",
    "\n",
    "    return nii_gz_files"
   ]
  },
  {
   "cell_type": "code",
   "execution_count": 143,
   "id": "721811c1-fe15-44b8-9e41-8609baac7e32",
   "metadata": {},
   "outputs": [],
   "source": [
    "raos_path = '/home/s.kapoor/kgong_skapoor/language_guided_segmentation/CLIP-Driven-Universal-Model/WORD/RAOS-Real/'\n",
    "nii_gz_files_path = find_nii_gz_files(raos_path)"
   ]
  },
  {
   "cell_type": "code",
   "execution_count": 144,
   "id": "6689988b-b111-4550-9456-4dfbeefcaac1",
   "metadata": {},
   "outputs": [
    {
     "data": {
      "text/plain": [
       "826"
      ]
     },
     "execution_count": 144,
     "metadata": {},
     "output_type": "execute_result"
    }
   ],
   "source": [
    "len(nii_gz_files_path)"
   ]
  },
  {
   "cell_type": "code",
   "execution_count": 162,
   "id": "adafc6db-9402-42e4-9813-9f8c68a61f2f",
   "metadata": {},
   "outputs": [],
   "source": [
    "files_in_raos = {}\n",
    "for file_name in dic.keys():\n",
    "    files_in_raos[file_name] = []\n",
    "for f in nii_gz_files_path:\n",
    "    file_name = f.split('/')[-1]\n",
    "    file_name_2 = file_name.split('_')[0]+'.nii.gz' # to address files with _000X values.\n",
    "    if file_name in dic.keys():\n",
    "        files_in_raos[file_name].append(f)\n",
    "    if file_name_2 in dic.keys():\n",
    "        files_in_raos[file_name_2].append(f)"
   ]
  },
  {
   "cell_type": "code",
   "execution_count": 163,
   "id": "5239a04c-43c0-4532-be9e-c6a4072e3a9f",
   "metadata": {
    "scrolled": true
   },
   "outputs": [
    {
     "data": {
      "text/plain": [
       "150"
      ]
     },
     "execution_count": 163,
     "metadata": {},
     "output_type": "execute_result"
    }
   ],
   "source": [
    "len(files_in_raos)"
   ]
  },
  {
   "cell_type": "code",
   "execution_count": 165,
   "id": "8a73dfd2-8536-4437-b8e4-78edcb222aed",
   "metadata": {},
   "outputs": [],
   "source": [
    "word_out_fold = '/home/s.kapoor/kgong_skapoor/language_guided_segmentation/CLIP-Driven-Universal-Model/WORD/'"
   ]
  },
  {
   "cell_type": "code",
   "execution_count": 166,
   "id": "f3e8d835-04b3-4d37-82a4-eebe5a485180",
   "metadata": {
    "scrolled": true
   },
   "outputs": [
    {
     "name": "stderr",
     "output_type": "stream",
     "text": [
      "100%|████████████████████████████████████████████████████████████████████████████████████████████████████████████████████████████████████████████████████████████████████████████████████████████████████████████████████████████████████████████████████████████████████| 150/150 [00:25<00:00,  5.91it/s]\n"
     ]
    }
   ],
   "source": [
    "for key,value in tqdm.tqdm(files_in_raos.items()):\n",
    "    #print(key)\n",
    "    #print(value)\n",
    "    #print(dic[key])\n",
    "    for file in value:\n",
    "        if 'label' in file:\n",
    "            dest_path = os.path.join(word_out_fold,'label',dic[key])\n",
    "        elif 'image' in file:\n",
    "            dest_path = os.path.join(word_out_fold,'img',dic[key])\n",
    "        shutil.copy(file,dest_path)"
   ]
  },
  {
   "cell_type": "code",
   "execution_count": null,
   "id": "59d7d029-74d4-4241-aa1f-9879e10465d8",
   "metadata": {},
   "outputs": [],
   "source": []
  },
  {
   "cell_type": "code",
   "execution_count": 167,
   "id": "019f405a-7710-452d-9691-95f9d102aa5e",
   "metadata": {},
   "outputs": [],
   "source": [
    "files_in_raos_sans_image = []\n",
    "for key,value in files_in_raos.items():\n",
    "    if len(value)<2:\n",
    "        files_in_raos_sans_image.append(key)"
   ]
  },
  {
   "cell_type": "code",
   "execution_count": 168,
   "id": "7b86c214-9833-43a2-92ae-45c671ec4f38",
   "metadata": {},
   "outputs": [
    {
     "data": {
      "text/plain": [
       "0"
      ]
     },
     "execution_count": 168,
     "metadata": {},
     "output_type": "execute_result"
    }
   ],
   "source": [
    "len(files_in_raos_sans_image)"
   ]
  },
  {
   "cell_type": "code",
   "execution_count": 169,
   "id": "a579755a-0338-42c8-9f8c-ba8d92a839fc",
   "metadata": {},
   "outputs": [],
   "source": [
    "#do it for chaos dataset."
   ]
  },
  {
   "cell_type": "code",
   "execution_count": 170,
   "id": "c8f0a420-9a0e-40b5-b393-7836e5afa27b",
   "metadata": {},
   "outputs": [],
   "source": [
    "#convert dicom images to img. nii.gz"
   ]
  },
  {
   "cell_type": "code",
   "execution_count": 171,
   "id": "0b6caf2d-e665-4cfd-9e19-3ad7b466920c",
   "metadata": {},
   "outputs": [],
   "source": [
    "chaos_train = '/home/s.kapoor/kgong_skapoor/language_guided_segmentation/CLIP-Driven-Universal-Model/03_CHAOS/Train_Sets/CT/'"
   ]
  },
  {
   "cell_type": "code",
   "execution_count": 176,
   "id": "d9fc2bbc-af0c-4f38-9b4d-d246b5bed0c6",
   "metadata": {},
   "outputs": [],
   "source": [
    "chaos_train_out = '/home/s.kapoor/kgong_skapoor/language_guided_segmentation/CLIP-Driven-Universal-Model/03_CHAOS/'"
   ]
  },
  {
   "cell_type": "code",
   "execution_count": 180,
   "id": "268ebb0a-ff5d-433c-ba4e-d9e4c8272478",
   "metadata": {
    "scrolled": true
   },
   "outputs": [
    {
     "name": "stderr",
     "output_type": "stream",
     "text": [
      "100%|██████████████████████████████████████████████████████████████████████████████████████████████████████████████████████████████████████████████████████████████████████████████████████████████████████████████████████████████████████████████████████████████████████| 20/20 [06:36<00:00, 19.82s/it]\n"
     ]
    }
   ],
   "source": [
    "for fold in tqdm.tqdm(os.listdir(chaos_train)):\n",
    "    #print(fold)\n",
    "    fold_path = os.path.join(chaos_train,fold)\n",
    "    if os.path.isdir(fold_path):\n",
    "        for sub_fold in os.listdir(fold_path):\n",
    "            if \"DICOM\" in sub_fold:\n",
    "                sub_fold_path = os.path.join(fold_path,sub_fold)\n",
    "                output_nifti_file = os.path.join(chaos_train_out,'img',fold+'_image.nii.gz')\n",
    "                #print(output_nifti_file)\n",
    "                dicom2nifti.dicom_series_to_nifti(sub_fold_path,output_nifti_file,reorient_nifti=True)\n",
    "            # elif \"ground\" in sub_fold:\n",
    "            #     sub_fold_path = os.path.join(fold_path,sub_fold)\n",
    "            #     output_nifti_file = os.path.join(chaos_train_out,'',subfold+'_image.nii.gz')\n",
    "            "
   ]
  },
  {
   "cell_type": "code",
   "execution_count": 191,
   "id": "ef1de9c7-9c57-4297-b725-5d01a043e071",
   "metadata": {},
   "outputs": [],
   "source": [
    "#convert the group of png files into the ground truth"
   ]
  },
  {
   "cell_type": "code",
   "execution_count": 187,
   "id": "a65c7cfb-3c1d-4406-a789-d88122bd6d7f",
   "metadata": {},
   "outputs": [],
   "source": [
    "import matplotlib.pyplot as plt\n",
    "from matplotlib.image import imread\n"
   ]
  },
  {
   "cell_type": "code",
   "execution_count": 217,
   "id": "de1c522c-ddcf-49e2-a4a2-83b0badd6579",
   "metadata": {},
   "outputs": [],
   "source": [
    "def load_png_array(png_dir,target_shape):\n",
    "\n",
    "    png_files = sorted([f for f in os.listdir(png_dir) if f.endswith('.png')])\n",
    "    len_png_files = len(png_files)\n",
    "    \n",
    "    if len_png_files!=target_shape[2]:\n",
    "\n",
    "        raise ValueError(f\"Len shape{len_png_files} does not match expected target len shape {target_shape[2]}\")\n",
    "        \n",
    "    stacked_images = np.zeros(target_shape,dtype = np.uint8)\n",
    "\n",
    "    for i,png_file in enumerate(png_files):\n",
    "\n",
    "        img = imread(os.path.join(png_dir,png_file))\n",
    "\n",
    "        if img.shape!= target_shape[:2]:\n",
    "\n",
    "            raise ValueError(f\"Image shape {img.shape} does not match expected target shape {target_shape[:2]}\")\n",
    "\n",
    "        stacked_images[:,:,i]=img\n",
    "        \n",
    "    return stacked_images"
   ]
  },
  {
   "cell_type": "code",
   "execution_count": 218,
   "id": "417f9a1a-521a-48f3-957d-8a8a3c268f71",
   "metadata": {},
   "outputs": [],
   "source": [
    "def png_to_nifti(png_dir,image_nifti_file,output_file):\n",
    "\n",
    "    original_img = nibabel.load(image_nifti_file)\n",
    "    original_shape = original_img.shape\n",
    "    original_affine = original_img.affine\n",
    "\n",
    "    #print(original_shape)\n",
    "\n",
    "    segmentation_array = load_png_array(png_dir,original_shape)\n",
    "\n",
    "    #segmentation_array = np.transpose(segmentation_array,(1,2,0))\n",
    "\n",
    "    segmentation_nifti = nibabel.Nifti1Image(segmentation_array,affine = original_affine)\n",
    "\n",
    "    nibabel.save(segmentation_nifti,output_file)"
   ]
  },
  {
   "cell_type": "code",
   "execution_count": 219,
   "id": "2536a080-ea85-4a66-b343-22c014d7b31b",
   "metadata": {},
   "outputs": [
    {
     "name": "stderr",
     "output_type": "stream",
     "text": [
      "100%|██████████████████████████████████████████████████████████████████████████████████████████████████████████████████████████████████████████████████████████████████████████████████████████████████████████████████████████████████████████████████████████████████████| 20/20 [00:54<00:00,  2.71s/it]\n"
     ]
    }
   ],
   "source": [
    "for fold in tqdm.tqdm(os.listdir(chaos_train)):\n",
    "    #print(fold)\n",
    "    fold_path = os.path.join(chaos_train,fold)\n",
    "    if os.path.isdir(fold_path):\n",
    "        for sub_fold in os.listdir(fold_path):\n",
    "            #print(sub_fold)\n",
    "            if \"Ground\" in sub_fold:\n",
    "                png_dir = os.path.join(fold_path,sub_fold)\n",
    "                output_nifti_file = os.path.join(chaos_train_out,'img',fold+'_image.nii.gz')\n",
    "                output_seg_file = os.path.join(chaos_train_out,'liver_label',fold+'_segmentation.nii.gz')\n",
    "                #print(output_nifti_file)\n",
    "                png_to_nifti(png_dir,output_nifti_file,output_seg_file)\n",
    "\n",
    "                nifti_file_shape = nibabel.load(output_nifti_file).shape\n",
    "                seg_file_shape = nibabel.load(output_seg_file).shape\n",
    "\n",
    "                assert nifti_file_shape==seg_file_shape,f\"shape missmatch of orignal {nifti_file_shape} and seg {seg_file_shape}\""
   ]
  },
  {
   "cell_type": "code",
   "execution_count": 220,
   "id": "4517cdfa-f3b4-4317-9f58-ce3a6ebf7582",
   "metadata": {},
   "outputs": [
    {
     "data": {
      "text/plain": [
       "(512, 512, 110)"
      ]
     },
     "execution_count": 220,
     "metadata": {},
     "output_type": "execute_result"
    }
   ],
   "source": [
    "nifti_file_shape"
   ]
  },
  {
   "cell_type": "code",
   "execution_count": 221,
   "id": "bbd5fe23-a7e1-45de-9aa8-6a60ecce5e7a",
   "metadata": {},
   "outputs": [
    {
     "data": {
      "text/plain": [
       "(512, 512, 110)"
      ]
     },
     "execution_count": 221,
     "metadata": {},
     "output_type": "execute_result"
    }
   ],
   "source": [
    "seg_file_shape"
   ]
  },
  {
   "cell_type": "code",
   "execution_count": 188,
   "id": "beb2272c-0da4-497c-880f-552f5b895e8d",
   "metadata": {},
   "outputs": [],
   "source": [
    "def open_png_images(folder_path):\n",
    "    \"\"\"\n",
    "    Open all PNG images within a specified folder.\n",
    "\n",
    "    Args:\n",
    "        folder_path (str): The path to the folder containing PNG images.\n",
    "    \"\"\"\n",
    "    for filename in [f\"{folder_path}/{f}\" for f in os.listdir(folder_path) if f.endswith('.png')]:\n",
    "        try:\n",
    "            img = Image.open(filename)\n",
    "            plt.imshow(imread(filename))\n",
    "            plt.title(os.path.basename(filename))  # Set the title to the filename\n",
    "            plt.axis('off')  # Hide the axis\n",
    "            plt.show()\n",
    "\n",
    "            # You can add more operations here, such as resizing or saving the image\n",
    "            # For example:\n",
    "            # img.save(f\"resized_{filename}\", \"JPEG\")\n",
    "        except Exception as e:\n",
    "            print(f\"An error occurred while opening the image: {e}\")\n",
    "        break"
   ]
  },
  {
   "cell_type": "code",
   "execution_count": 189,
   "id": "47c7fac8-7a78-44d2-a894-c3c1764242c5",
   "metadata": {},
   "outputs": [],
   "source": [
    "img_folder_path = '/home/s.kapoor/kgong_skapoor/language_guided_segmentation/CLIP-Driven-Universal-Model/03_CHAOS/Train_Sets/CT/1/Ground/'"
   ]
  },
  {
   "cell_type": "code",
   "execution_count": 190,
   "id": "b8750780-2df0-4e8f-8af6-000c25282a50",
   "metadata": {
    "scrolled": true
   },
   "outputs": [
    {
     "data": {
      "image/png": "[encoded data removed]",
      "text/plain": [
       "<Figure size 640x480 with 1 Axes>"
      ]
     },
     "metadata": {},
     "output_type": "display_data"
    }
   ],
   "source": [
    "open_png_images(img_folder_path)"
   ]
  },
  {
   "cell_type": "code",
   "execution_count": 234,
   "id": "d87e481d-f8b7-43b7-b6f3-f53788a84e14",
   "metadata": {},
   "outputs": [],
   "source": [
    "#check if all the files in the json exists or not \n",
    "paot_file = '/home/s.kapoor/kgong_skapoor/language_guided_segmentation/CLIP-Driven-Universal-Model/dataset/dataset_list/PAOT_train.txt'"
   ]
  },
  {
   "cell_type": "code",
   "execution_count": 235,
   "id": "05a0bc33-9c35-48d4-8a2a-392e8fa8770c",
   "metadata": {},
   "outputs": [],
   "source": [
    "main_folder = '/home/s.kapoor/kgong_skapoor/language_guided_segmentation/CLIP-Driven-Universal-Model/'"
   ]
  },
  {
   "cell_type": "code",
   "execution_count": 236,
   "id": "c5342119-fe4e-4eec-9c91-85ee4a60c646",
   "metadata": {},
   "outputs": [],
   "source": [
    "file_not_there = []"
   ]
  },
  {
   "cell_type": "code",
   "execution_count": 237,
   "id": "81518df5-8795-46d6-a8f7-d1b2184ceea5",
   "metadata": {},
   "outputs": [],
   "source": [
    "with open(paot_file,'r') as file:\n",
    "    for line in file.readlines():\n",
    "        file_paths = line.split()\n",
    "        for file_path in file_paths:\n",
    "            act_file_path = os.path.join(main_folder,file_path)\n",
    "            if not os.path.exists(act_file_path):\n",
    "                file_not_there.append(act_file_path)"
   ]
  },
  {
   "cell_type": "code",
   "execution_count": 238,
   "id": "d06d1fca-2999-482d-893f-d477fbe11bb7",
   "metadata": {},
   "outputs": [
    {
     "data": {
      "text/plain": [
       "[]"
      ]
     },
     "execution_count": 238,
     "metadata": {},
     "output_type": "execute_result"
    }
   ],
   "source": [
    "file_not_there"
   ]
  },
  {
   "cell_type": "code",
   "execution_count": null,
   "id": "17831117-d47f-4c2d-b9ad-6faa9d27b595",
   "metadata": {},
   "outputs": [],
   "source": []
  }
 ],
 "metadata": {
  "kernelspec": {
   "display_name": "Python 3 (ipykernel)",
   "language": "python",
   "name": "python3"
  },
  "language_info": {
   "codemirror_mode": {
    "name": "ipython",
    "version": 3
   },
   "file_extension": ".py",
   "mimetype": "text/x-python",
   "name": "python",
   "nbconvert_exporter": "python",
   "pygments_lexer": "ipython3",
   "version": "3.9.19"
  }
 },
 "nbformat": 4,
 "nbformat_minor": 5
}
